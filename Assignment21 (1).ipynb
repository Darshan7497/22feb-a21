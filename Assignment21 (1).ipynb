{
 "cells": [
  {
   "cell_type": "markdown",
   "id": "e388a559-6382-4494-904e-1ffcbd6fd5b6",
   "metadata": {},
   "source": [
    "# Q1. Create a Pandas Series that contains the following data: 4, 8, 15, 16, 23, and 42. Then, print the series."
   ]
  },
  {
   "cell_type": "code",
   "execution_count": 3,
   "id": "ebf3b1c8-f794-4ecf-9b1d-eed6b61470b1",
   "metadata": {},
   "outputs": [],
   "source": [
    "import pandas as pd\n"
   ]
  },
  {
   "cell_type": "code",
   "execution_count": 4,
   "id": "6ed4b5de-865e-4498-87e5-5275a31b5294",
   "metadata": {},
   "outputs": [
    {
     "name": "stdout",
     "output_type": "stream",
     "text": [
      "Requirement already satisfied: pandas in /opt/conda/lib/python3.10/site-packages (1.5.2)\n",
      "Requirement already satisfied: python-dateutil>=2.8.1 in /opt/conda/lib/python3.10/site-packages (from pandas) (2.8.2)\n",
      "Requirement already satisfied: pytz>=2020.1 in /opt/conda/lib/python3.10/site-packages (from pandas) (2022.6)\n",
      "Requirement already satisfied: numpy>=1.21.0 in /opt/conda/lib/python3.10/site-packages (from pandas) (1.23.5)\n",
      "Requirement already satisfied: six>=1.5 in /opt/conda/lib/python3.10/site-packages (from python-dateutil>=2.8.1->pandas) (1.16.0)\n",
      "Note: you may need to restart the kernel to use updated packages.\n"
     ]
    }
   ],
   "source": [
    "pip install pandas"
   ]
  },
  {
   "cell_type": "code",
   "execution_count": 7,
   "id": "6aede953-b430-472a-bd08-01b7c2736ee9",
   "metadata": {},
   "outputs": [],
   "source": [
    "a = [4,8,15,16,23,42]"
   ]
  },
  {
   "cell_type": "code",
   "execution_count": 11,
   "id": "81bbceae-d759-407f-a711-de62385c715d",
   "metadata": {},
   "outputs": [
    {
     "name": "stdout",
     "output_type": "stream",
     "text": [
      "0     4\n",
      "1     8\n",
      "2    15\n",
      "3    16\n",
      "4    23\n",
      "5    42\n",
      "dtype: int64\n"
     ]
    }
   ],
   "source": [
    "series = pd.Series(a)\n",
    "print(series)"
   ]
  },
  {
   "cell_type": "markdown",
   "id": "02fc7592-8abd-40ac-9ec7-082b48f939e3",
   "metadata": {},
   "source": [
    "# Q2. Create a variable of list type containing 10 elements in it, and apply pandas.Series function on the variable print it."
   ]
  },
  {
   "cell_type": "code",
   "execution_count": 13,
   "id": "665f56f5-a987-42a8-8a3d-17f7207d7ff9",
   "metadata": {},
   "outputs": [
    {
     "name": "stdout",
     "output_type": "stream",
     "text": [
      "0     1\n",
      "1     2\n",
      "2     3\n",
      "3     4\n",
      "4     5\n",
      "5     6\n",
      "6     7\n",
      "7     8\n",
      "8     9\n",
      "9    10\n",
      "dtype: int64\n"
     ]
    }
   ],
   "source": [
    "a = [1,2,3,4,5,6,7,8,9,10]\n",
    "series = pd.Series(a)\n",
    "print(series)"
   ]
  },
  {
   "cell_type": "markdown",
   "id": "49cc0d7d-d96f-4845-9ac1-1e1fbb29988e",
   "metadata": {},
   "source": [
    "# Q3. Create a Pandas DataFrame that contains the following data:Then, print the DataFrame."
   ]
  },
  {
   "cell_type": "code",
   "execution_count": 14,
   "id": "92bd7e8d-2e4d-4d14-89ce-9ef12e963be2",
   "metadata": {},
   "outputs": [],
   "source": [
    "df =pd.read_excel(\"Book1.xlsx\")"
   ]
  },
  {
   "cell_type": "code",
   "execution_count": 15,
   "id": "ed6a12ff-3d59-4659-87af-9a55e842ee81",
   "metadata": {},
   "outputs": [
    {
     "name": "stdout",
     "output_type": "stream",
     "text": [
      "    Name   Age   Gender\n",
      "0   Alice    25  Female\n",
      "1     Bob    30    Male\n",
      "2  Claire    27  Female\n"
     ]
    }
   ],
   "source": [
    "print(df)"
   ]
  },
  {
   "cell_type": "markdown",
   "id": "40413ad9-11a9-4eee-982e-56704da81ab6",
   "metadata": {},
   "source": [
    "# Q4. What is ‘DataFrame’ in pandas and how is it different from pandas.series? Explain with an example."
   ]
  },
  {
   "cell_type": "markdown",
   "id": "7a581415-2b8f-42ac-aaaa-4507ad93174e",
   "metadata": {},
   "source": [
    "1)A DataFrame has multiple columns, while a Series has only one column.\n",
    "\n",
    "2)A DataFrame can hold data of different types in each column, while a Series can hold data of only one type. \n",
    "\n",
    "3)A DataFrame has both a row index and a column index, while a Series has only a row index."
   ]
  },
  {
   "cell_type": "code",
   "execution_count": 16,
   "id": "63778b14-39d5-4897-b441-ae11dbce6e31",
   "metadata": {},
   "outputs": [
    {
     "name": "stdout",
     "output_type": "stream",
     "text": [
      "Series:\n",
      "0     apple\n",
      "1    banana\n",
      "2    cherry\n",
      "3    durian\n",
      "dtype: object\n",
      "\n",
      "DataFrame:\n",
      "     name  age   fruit\n",
      "0   Alice   25   apple\n",
      "1     Bob   30  banana\n",
      "2  Claire   27  cherry\n",
      "3   David   35  durian\n"
     ]
    }
   ],
   "source": [
    "# Creating a Series object\n",
    "fruits = pd.Series(['apple', 'banana', 'cherry', 'durian'])\n",
    "\n",
    "# Creating a DataFrame object\n",
    "data = {'name': ['Alice', 'Bob', 'Claire', 'David'],\n",
    "        'age': [25, 30, 27, 35],\n",
    "        'fruit': ['apple', 'banana', 'cherry', 'durian']}\n",
    "df = pd.DataFrame(data)\n",
    "\n",
    "print(\"Series:\")\n",
    "print(fruits)\n",
    "print(\"\\nDataFrame:\")\n",
    "print(df)"
   ]
  },
  {
   "cell_type": "markdown",
   "id": "6871400c-7e1f-4688-a730-8000f44085c1",
   "metadata": {},
   "source": [
    "# Q5. What are some common functions you can use to manipulate data in a Pandas DataFrame? Can you give an example of when you might use one of these functions?"
   ]
  },
  {
   "cell_type": "markdown",
   "id": "87b87c6e-67f4-4c01-b74d-17ba5c591000",
   "metadata": {},
   "source": [
    "1)head() and tail(): These functions allow you to view the top or bottom rows of a DataFrame.\n",
    "\n",
    "2)describe(): This function provides a summary of the numerical data in the DataFrame, including count, mean, standard deviation, minimum, and maximum values\n",
    "\n",
    "3)drop(): This function allows you to remove rows or columns from a DataFrame.\n",
    "\n",
    "4)fillna(): This function allows you to fill missing values in a DataFrame with a specific value or a value computed from other values in the DataFrame. It is useful when you want to replace missing data with a meaningful value.\n",
    "\n",
    "4)groupby(): This function allows you to group data in a DataFrame by one or more columns and apply a function to each group.\n",
    "\n",
    "5)pivot_table(): This function allows you to create a summary table from a DataFrame by aggregating the data across multiple dimensions."
   ]
  },
  {
   "cell_type": "code",
   "execution_count": 19,
   "id": "4807e7c5-c86c-4d36-b6a2-d43312cb0e3a",
   "metadata": {},
   "outputs": [
    {
     "name": "stdout",
     "output_type": "stream",
     "text": [
      "Region\n",
      "East     370\n",
      "North    300\n",
      "South    450\n",
      "West     460\n",
      "Name: Sales, dtype: int64\n"
     ]
    }
   ],
   "source": [
    "import pandas as pd\n",
    "\n",
    "# create a DataFrame with sales data\n",
    "data = {'Region': ['North', 'North', 'South', 'South', 'East', 'East', 'West', 'West'],\n",
    "        'Product': ['A', 'B', 'A', 'B', 'A', 'B', 'A', 'B'],\n",
    "        'Sales': [100, 200, 150, 300, 120, 250, 180, 280]}\n",
    "df = pd.DataFrame(data)\n",
    "# group data by region and calculate total sales\n",
    "region_sales = df.groupby('Region')['Sales'].sum()\n",
    "print(region_sales)"
   ]
  },
  {
   "cell_type": "markdown",
   "id": "df29a3cb-b045-40b8-a19b-2058a646650e",
   "metadata": {},
   "source": [
    "# Q6. Which of the following is mutable in nature Series, DataFrame, Panel?"
   ]
  },
  {
   "cell_type": "markdown",
   "id": "86b4b50b-2f81-46ca-beb2-7fa7092e20ff",
   "metadata": {},
   "source": [
    "In Pandas, both Series and DataFrame are mutable, which means that their values can be changed after they are created. However, Panel is deprecated in the latest version of Pandas and is no longer recommended for use.\n",
    "\n",
    "When you modify a Series or DataFrame, the original object is updated, and any references to the object will reflect the changes. This is different from immutable objects like strings, tuples, or frozen sets, where you cannot modify the object once it is created."
   ]
  },
  {
   "cell_type": "markdown",
   "id": "82b9641d-74e6-44d9-8cb7-646a5bcf681b",
   "metadata": {},
   "source": [
    "# Q7. Create a DataFrame using multiple Series. Explain with an example."
   ]
  },
  {
   "cell_type": "code",
   "execution_count": 20,
   "id": "a02d918d-3b90-4ac2-81f6-6b1cd37b463a",
   "metadata": {},
   "outputs": [
    {
     "name": "stdout",
     "output_type": "stream",
     "text": [
      "      Name  Age Gender\n",
      "0    Alice   25      F\n",
      "1      Bob   30      M\n",
      "2  Charlie   35      M\n"
     ]
    }
   ],
   "source": [
    "# create three Series\n",
    "name = pd.Series(['Alice', 'Bob', 'Charlie'])\n",
    "age = pd.Series([25, 30, 35])\n",
    "gender = pd.Series(['F', 'M', 'M'])\n",
    "\n",
    "# create a DataFrame using the Series\n",
    "df = pd.DataFrame({'Name': name, 'Age': age, 'Gender': gender})\n",
    "\n",
    "# display the DataFrame\n",
    "print(df)"
   ]
  },
  {
   "cell_type": "code",
   "execution_count": null,
   "id": "64609d0d-a12f-4329-93c6-600f20915cb4",
   "metadata": {},
   "outputs": [],
   "source": []
  }
 ],
 "metadata": {
  "kernelspec": {
   "display_name": "Python 3 (ipykernel)",
   "language": "python",
   "name": "python3"
  },
  "language_info": {
   "codemirror_mode": {
    "name": "ipython",
    "version": 3
   },
   "file_extension": ".py",
   "mimetype": "text/x-python",
   "name": "python",
   "nbconvert_exporter": "python",
   "pygments_lexer": "ipython3",
   "version": "3.10.8"
  }
 },
 "nbformat": 4,
 "nbformat_minor": 5
}
